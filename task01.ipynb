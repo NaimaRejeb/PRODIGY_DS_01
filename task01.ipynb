{
 "cells": [
  {
   "cell_type": "markdown",
   "id": "2d6061fa",
   "metadata": {
    "papermill": {
     "duration": 0.003233,
     "end_time": "2025-07-08T15:30:57.950807",
     "exception": false,
     "start_time": "2025-07-08T15:30:57.947574",
     "status": "completed"
    },
    "tags": []
   },
   "source": [
    "# ***Argentina Population Trends (1960-2020): Data Cleaning & Visualization Walkthrough***"
   ]
  },
  {
   "cell_type": "code",
   "execution_count": 1,
   "id": "990cfe15",
   "metadata": {
    "_cell_guid": "b1076dfc-b9ad-4769-8c92-a6c4dae69d19",
    "_uuid": "8f2839f25d086af736a60e9eeb907d3b93b6e0e5",
    "execution": {
     "iopub.execute_input": "2025-07-08T15:30:57.957136Z",
     "iopub.status.busy": "2025-07-08T15:30:57.956892Z",
     "iopub.status.idle": "2025-07-08T15:30:59.574942Z",
     "shell.execute_reply": "2025-07-08T15:30:59.574165Z"
    },
    "papermill": {
     "duration": 1.622555,
     "end_time": "2025-07-08T15:30:59.576360",
     "exception": false,
     "start_time": "2025-07-08T15:30:57.953805",
     "status": "completed"
    },
    "tags": []
   },
   "outputs": [],
   "source": [
    "import pandas as pd\n",
    "import matplotlib as plt"
   ]
  },
  {
   "cell_type": "code",
   "execution_count": 2,
   "id": "ac49f296",
   "metadata": {
    "execution": {
     "iopub.execute_input": "2025-07-08T15:30:59.581948Z",
     "iopub.status.busy": "2025-07-08T15:30:59.581645Z",
     "iopub.status.idle": "2025-07-08T15:30:59.609815Z",
     "shell.execute_reply": "2025-07-08T15:30:59.609073Z"
    },
    "papermill": {
     "duration": 0.032053,
     "end_time": "2025-07-08T15:30:59.610898",
     "exception": false,
     "start_time": "2025-07-08T15:30:59.578845",
     "status": "completed"
    },
    "tags": []
   },
   "outputs": [],
   "source": [
    "df = pd.read_csv(\"/kaggle/input/api-sp-pop-totl-ds2-en-csv-v2-38144-csv/API_SP.POP.TOTL_DS2_en_csv_v2_38144.csv\", skiprows=4)\n",
    "# Skip the first 4 non-CSV rows"
   ]
  },
  {
   "cell_type": "code",
   "execution_count": 3,
   "id": "2dc5dc85",
   "metadata": {
    "execution": {
     "iopub.execute_input": "2025-07-08T15:30:59.615919Z",
     "iopub.status.busy": "2025-07-08T15:30:59.615712Z",
     "iopub.status.idle": "2025-07-08T15:30:59.652490Z",
     "shell.execute_reply": "2025-07-08T15:30:59.651740Z"
    },
    "papermill": {
     "duration": 0.040462,
     "end_time": "2025-07-08T15:30:59.653621",
     "exception": false,
     "start_time": "2025-07-08T15:30:59.613159",
     "status": "completed"
    },
    "tags": []
   },
   "outputs": [
    {
     "name": "stderr",
     "output_type": "stream",
     "text": [
      "/usr/local/lib/python3.11/dist-packages/pandas/io/formats/format.py:1458: RuntimeWarning: invalid value encountered in greater\n",
      "  has_large_values = (abs_vals > 1e6).any()\n",
      "/usr/local/lib/python3.11/dist-packages/pandas/io/formats/format.py:1459: RuntimeWarning: invalid value encountered in less\n",
      "  has_small_values = ((abs_vals < 10 ** (-self.digits)) & (abs_vals > 0)).any()\n",
      "/usr/local/lib/python3.11/dist-packages/pandas/io/formats/format.py:1459: RuntimeWarning: invalid value encountered in greater\n",
      "  has_small_values = ((abs_vals < 10 ** (-self.digits)) & (abs_vals > 0)).any()\n",
      "/usr/local/lib/python3.11/dist-packages/pandas/io/formats/format.py:1458: RuntimeWarning: invalid value encountered in greater\n",
      "  has_large_values = (abs_vals > 1e6).any()\n",
      "/usr/local/lib/python3.11/dist-packages/pandas/io/formats/format.py:1459: RuntimeWarning: invalid value encountered in less\n",
      "  has_small_values = ((abs_vals < 10 ** (-self.digits)) & (abs_vals > 0)).any()\n",
      "/usr/local/lib/python3.11/dist-packages/pandas/io/formats/format.py:1459: RuntimeWarning: invalid value encountered in greater\n",
      "  has_small_values = ((abs_vals < 10 ** (-self.digits)) & (abs_vals > 0)).any()\n"
     ]
    },
    {
     "data": {
      "text/html": [
       "<div>\n",
       "<style scoped>\n",
       "    .dataframe tbody tr th:only-of-type {\n",
       "        vertical-align: middle;\n",
       "    }\n",
       "\n",
       "    .dataframe tbody tr th {\n",
       "        vertical-align: top;\n",
       "    }\n",
       "\n",
       "    .dataframe thead th {\n",
       "        text-align: right;\n",
       "    }\n",
       "</style>\n",
       "<table border=\"1\" class=\"dataframe\">\n",
       "  <thead>\n",
       "    <tr style=\"text-align: right;\">\n",
       "      <th></th>\n",
       "      <th>Country Name</th>\n",
       "      <th>Country Code</th>\n",
       "      <th>Indicator Name</th>\n",
       "      <th>Indicator Code</th>\n",
       "      <th>1960</th>\n",
       "      <th>1961</th>\n",
       "      <th>1962</th>\n",
       "      <th>1963</th>\n",
       "      <th>1964</th>\n",
       "      <th>1965</th>\n",
       "      <th>...</th>\n",
       "      <th>2016</th>\n",
       "      <th>2017</th>\n",
       "      <th>2018</th>\n",
       "      <th>2019</th>\n",
       "      <th>2020</th>\n",
       "      <th>2021</th>\n",
       "      <th>2022</th>\n",
       "      <th>2023</th>\n",
       "      <th>2024</th>\n",
       "      <th>Unnamed: 69</th>\n",
       "    </tr>\n",
       "  </thead>\n",
       "  <tbody>\n",
       "    <tr>\n",
       "      <th>0</th>\n",
       "      <td>Aruba</td>\n",
       "      <td>ABW</td>\n",
       "      <td>Population, total</td>\n",
       "      <td>SP.POP.TOTL</td>\n",
       "      <td>54922.0</td>\n",
       "      <td>55578.0</td>\n",
       "      <td>56320.0</td>\n",
       "      <td>57002.0</td>\n",
       "      <td>57619.0</td>\n",
       "      <td>58190.0</td>\n",
       "      <td>...</td>\n",
       "      <td>108727.0</td>\n",
       "      <td>108735.0</td>\n",
       "      <td>108908.0</td>\n",
       "      <td>109203.0</td>\n",
       "      <td>108587.0</td>\n",
       "      <td>107700.0</td>\n",
       "      <td>107310.0</td>\n",
       "      <td>107359.0</td>\n",
       "      <td>107624.0</td>\n",
       "      <td>NaN</td>\n",
       "    </tr>\n",
       "    <tr>\n",
       "      <th>1</th>\n",
       "      <td>Africa Eastern and Southern</td>\n",
       "      <td>AFE</td>\n",
       "      <td>Population, total</td>\n",
       "      <td>SP.POP.TOTL</td>\n",
       "      <td>130075728.0</td>\n",
       "      <td>133534923.0</td>\n",
       "      <td>137171659.0</td>\n",
       "      <td>140945536.0</td>\n",
       "      <td>144904094.0</td>\n",
       "      <td>149033472.0</td>\n",
       "      <td>...</td>\n",
       "      <td>623369401.0</td>\n",
       "      <td>640058741.0</td>\n",
       "      <td>657801085.0</td>\n",
       "      <td>675950189.0</td>\n",
       "      <td>694446100.0</td>\n",
       "      <td>713090928.0</td>\n",
       "      <td>731821393.0</td>\n",
       "      <td>750503764.0</td>\n",
       "      <td>769294618.0</td>\n",
       "      <td>NaN</td>\n",
       "    </tr>\n",
       "    <tr>\n",
       "      <th>2</th>\n",
       "      <td>Afghanistan</td>\n",
       "      <td>AFG</td>\n",
       "      <td>Population, total</td>\n",
       "      <td>SP.POP.TOTL</td>\n",
       "      <td>9035043.0</td>\n",
       "      <td>9214083.0</td>\n",
       "      <td>9404406.0</td>\n",
       "      <td>9604487.0</td>\n",
       "      <td>9814318.0</td>\n",
       "      <td>10036008.0</td>\n",
       "      <td>...</td>\n",
       "      <td>34700612.0</td>\n",
       "      <td>35688935.0</td>\n",
       "      <td>36743039.0</td>\n",
       "      <td>37856121.0</td>\n",
       "      <td>39068979.0</td>\n",
       "      <td>40000412.0</td>\n",
       "      <td>40578842.0</td>\n",
       "      <td>41454761.0</td>\n",
       "      <td>42647492.0</td>\n",
       "      <td>NaN</td>\n",
       "    </tr>\n",
       "    <tr>\n",
       "      <th>3</th>\n",
       "      <td>Africa Western and Central</td>\n",
       "      <td>AFW</td>\n",
       "      <td>Population, total</td>\n",
       "      <td>SP.POP.TOTL</td>\n",
       "      <td>97630925.0</td>\n",
       "      <td>99706674.0</td>\n",
       "      <td>101854756.0</td>\n",
       "      <td>104089175.0</td>\n",
       "      <td>106388440.0</td>\n",
       "      <td>108772632.0</td>\n",
       "      <td>...</td>\n",
       "      <td>429454743.0</td>\n",
       "      <td>440882906.0</td>\n",
       "      <td>452195915.0</td>\n",
       "      <td>463365429.0</td>\n",
       "      <td>474569351.0</td>\n",
       "      <td>485920997.0</td>\n",
       "      <td>497387180.0</td>\n",
       "      <td>509398589.0</td>\n",
       "      <td>521764076.0</td>\n",
       "      <td>NaN</td>\n",
       "    </tr>\n",
       "    <tr>\n",
       "      <th>4</th>\n",
       "      <td>Angola</td>\n",
       "      <td>AGO</td>\n",
       "      <td>Population, total</td>\n",
       "      <td>SP.POP.TOTL</td>\n",
       "      <td>5231654.0</td>\n",
       "      <td>5301583.0</td>\n",
       "      <td>5354310.0</td>\n",
       "      <td>5408320.0</td>\n",
       "      <td>5464187.0</td>\n",
       "      <td>5521981.0</td>\n",
       "      <td>...</td>\n",
       "      <td>29183070.0</td>\n",
       "      <td>30234839.0</td>\n",
       "      <td>31297155.0</td>\n",
       "      <td>32375632.0</td>\n",
       "      <td>33451132.0</td>\n",
       "      <td>34532429.0</td>\n",
       "      <td>35635029.0</td>\n",
       "      <td>36749906.0</td>\n",
       "      <td>37885849.0</td>\n",
       "      <td>NaN</td>\n",
       "    </tr>\n",
       "    <tr>\n",
       "      <th>5</th>\n",
       "      <td>Albania</td>\n",
       "      <td>ALB</td>\n",
       "      <td>Population, total</td>\n",
       "      <td>SP.POP.TOTL</td>\n",
       "      <td>1608800.0</td>\n",
       "      <td>1659800.0</td>\n",
       "      <td>1711319.0</td>\n",
       "      <td>1762621.0</td>\n",
       "      <td>1814135.0</td>\n",
       "      <td>1864791.0</td>\n",
       "      <td>...</td>\n",
       "      <td>2876101.0</td>\n",
       "      <td>2873457.0</td>\n",
       "      <td>2866376.0</td>\n",
       "      <td>2854191.0</td>\n",
       "      <td>2837849.0</td>\n",
       "      <td>2811666.0</td>\n",
       "      <td>2777689.0</td>\n",
       "      <td>2745972.0</td>\n",
       "      <td>2714617.0</td>\n",
       "      <td>NaN</td>\n",
       "    </tr>\n",
       "    <tr>\n",
       "      <th>6</th>\n",
       "      <td>Andorra</td>\n",
       "      <td>AND</td>\n",
       "      <td>Population, total</td>\n",
       "      <td>SP.POP.TOTL</td>\n",
       "      <td>9510.0</td>\n",
       "      <td>10283.0</td>\n",
       "      <td>11086.0</td>\n",
       "      <td>11915.0</td>\n",
       "      <td>12764.0</td>\n",
       "      <td>13634.0</td>\n",
       "      <td>...</td>\n",
       "      <td>72181.0</td>\n",
       "      <td>73763.0</td>\n",
       "      <td>75162.0</td>\n",
       "      <td>76474.0</td>\n",
       "      <td>77380.0</td>\n",
       "      <td>78364.0</td>\n",
       "      <td>79705.0</td>\n",
       "      <td>80856.0</td>\n",
       "      <td>81938.0</td>\n",
       "      <td>NaN</td>\n",
       "    </tr>\n",
       "    <tr>\n",
       "      <th>7</th>\n",
       "      <td>Arab World</td>\n",
       "      <td>ARB</td>\n",
       "      <td>Population, total</td>\n",
       "      <td>SP.POP.TOTL</td>\n",
       "      <td>91540853.0</td>\n",
       "      <td>93931683.0</td>\n",
       "      <td>96428599.0</td>\n",
       "      <td>99038509.0</td>\n",
       "      <td>101729760.0</td>\n",
       "      <td>104494008.0</td>\n",
       "      <td>...</td>\n",
       "      <td>419808341.0</td>\n",
       "      <td>428315886.0</td>\n",
       "      <td>435998060.0</td>\n",
       "      <td>444281315.0</td>\n",
       "      <td>453723239.0</td>\n",
       "      <td>460646603.0</td>\n",
       "      <td>471352066.0</td>\n",
       "      <td>482105978.0</td>\n",
       "      <td>492579811.0</td>\n",
       "      <td>NaN</td>\n",
       "    </tr>\n",
       "    <tr>\n",
       "      <th>8</th>\n",
       "      <td>United Arab Emirates</td>\n",
       "      <td>ARE</td>\n",
       "      <td>Population, total</td>\n",
       "      <td>SP.POP.TOTL</td>\n",
       "      <td>131334.0</td>\n",
       "      <td>137989.0</td>\n",
       "      <td>144946.0</td>\n",
       "      <td>152211.0</td>\n",
       "      <td>159692.0</td>\n",
       "      <td>167103.0</td>\n",
       "      <td>...</td>\n",
       "      <td>8935095.0</td>\n",
       "      <td>9223225.0</td>\n",
       "      <td>9346701.0</td>\n",
       "      <td>9445785.0</td>\n",
       "      <td>9401038.0</td>\n",
       "      <td>9575152.0</td>\n",
       "      <td>10074977.0</td>\n",
       "      <td>10483751.0</td>\n",
       "      <td>10876981.0</td>\n",
       "      <td>NaN</td>\n",
       "    </tr>\n",
       "    <tr>\n",
       "      <th>9</th>\n",
       "      <td>Argentina</td>\n",
       "      <td>ARG</td>\n",
       "      <td>Population, total</td>\n",
       "      <td>SP.POP.TOTL</td>\n",
       "      <td>20386045.0</td>\n",
       "      <td>20726276.0</td>\n",
       "      <td>21072538.0</td>\n",
       "      <td>21421705.0</td>\n",
       "      <td>21769453.0</td>\n",
       "      <td>22112629.0</td>\n",
       "      <td>...</td>\n",
       "      <td>43900313.0</td>\n",
       "      <td>44288894.0</td>\n",
       "      <td>44654882.0</td>\n",
       "      <td>44973465.0</td>\n",
       "      <td>45191965.0</td>\n",
       "      <td>45312281.0</td>\n",
       "      <td>45407904.0</td>\n",
       "      <td>45538401.0</td>\n",
       "      <td>45696159.0</td>\n",
       "      <td>NaN</td>\n",
       "    </tr>\n",
       "  </tbody>\n",
       "</table>\n",
       "<p>10 rows × 70 columns</p>\n",
       "</div>"
      ],
      "text/plain": [
       "                  Country Name Country Code     Indicator Name Indicator Code  \\\n",
       "0                        Aruba          ABW  Population, total    SP.POP.TOTL   \n",
       "1  Africa Eastern and Southern          AFE  Population, total    SP.POP.TOTL   \n",
       "2                  Afghanistan          AFG  Population, total    SP.POP.TOTL   \n",
       "3   Africa Western and Central          AFW  Population, total    SP.POP.TOTL   \n",
       "4                       Angola          AGO  Population, total    SP.POP.TOTL   \n",
       "5                      Albania          ALB  Population, total    SP.POP.TOTL   \n",
       "6                      Andorra          AND  Population, total    SP.POP.TOTL   \n",
       "7                   Arab World          ARB  Population, total    SP.POP.TOTL   \n",
       "8         United Arab Emirates          ARE  Population, total    SP.POP.TOTL   \n",
       "9                    Argentina          ARG  Population, total    SP.POP.TOTL   \n",
       "\n",
       "          1960         1961         1962         1963         1964  \\\n",
       "0      54922.0      55578.0      56320.0      57002.0      57619.0   \n",
       "1  130075728.0  133534923.0  137171659.0  140945536.0  144904094.0   \n",
       "2    9035043.0    9214083.0    9404406.0    9604487.0    9814318.0   \n",
       "3   97630925.0   99706674.0  101854756.0  104089175.0  106388440.0   \n",
       "4    5231654.0    5301583.0    5354310.0    5408320.0    5464187.0   \n",
       "5    1608800.0    1659800.0    1711319.0    1762621.0    1814135.0   \n",
       "6       9510.0      10283.0      11086.0      11915.0      12764.0   \n",
       "7   91540853.0   93931683.0   96428599.0   99038509.0  101729760.0   \n",
       "8     131334.0     137989.0     144946.0     152211.0     159692.0   \n",
       "9   20386045.0   20726276.0   21072538.0   21421705.0   21769453.0   \n",
       "\n",
       "          1965  ...         2016         2017         2018         2019  \\\n",
       "0      58190.0  ...     108727.0     108735.0     108908.0     109203.0   \n",
       "1  149033472.0  ...  623369401.0  640058741.0  657801085.0  675950189.0   \n",
       "2   10036008.0  ...   34700612.0   35688935.0   36743039.0   37856121.0   \n",
       "3  108772632.0  ...  429454743.0  440882906.0  452195915.0  463365429.0   \n",
       "4    5521981.0  ...   29183070.0   30234839.0   31297155.0   32375632.0   \n",
       "5    1864791.0  ...    2876101.0    2873457.0    2866376.0    2854191.0   \n",
       "6      13634.0  ...      72181.0      73763.0      75162.0      76474.0   \n",
       "7  104494008.0  ...  419808341.0  428315886.0  435998060.0  444281315.0   \n",
       "8     167103.0  ...    8935095.0    9223225.0    9346701.0    9445785.0   \n",
       "9   22112629.0  ...   43900313.0   44288894.0   44654882.0   44973465.0   \n",
       "\n",
       "          2020         2021         2022         2023         2024  \\\n",
       "0     108587.0     107700.0     107310.0     107359.0     107624.0   \n",
       "1  694446100.0  713090928.0  731821393.0  750503764.0  769294618.0   \n",
       "2   39068979.0   40000412.0   40578842.0   41454761.0   42647492.0   \n",
       "3  474569351.0  485920997.0  497387180.0  509398589.0  521764076.0   \n",
       "4   33451132.0   34532429.0   35635029.0   36749906.0   37885849.0   \n",
       "5    2837849.0    2811666.0    2777689.0    2745972.0    2714617.0   \n",
       "6      77380.0      78364.0      79705.0      80856.0      81938.0   \n",
       "7  453723239.0  460646603.0  471352066.0  482105978.0  492579811.0   \n",
       "8    9401038.0    9575152.0   10074977.0   10483751.0   10876981.0   \n",
       "9   45191965.0   45312281.0   45407904.0   45538401.0   45696159.0   \n",
       "\n",
       "   Unnamed: 69  \n",
       "0          NaN  \n",
       "1          NaN  \n",
       "2          NaN  \n",
       "3          NaN  \n",
       "4          NaN  \n",
       "5          NaN  \n",
       "6          NaN  \n",
       "7          NaN  \n",
       "8          NaN  \n",
       "9          NaN  \n",
       "\n",
       "[10 rows x 70 columns]"
      ]
     },
     "execution_count": 3,
     "metadata": {},
     "output_type": "execute_result"
    }
   ],
   "source": [
    "df.head(10)"
   ]
  },
  {
   "cell_type": "code",
   "execution_count": 4,
   "id": "d720e0bb",
   "metadata": {
    "execution": {
     "iopub.execute_input": "2025-07-08T15:30:59.659558Z",
     "iopub.status.busy": "2025-07-08T15:30:59.659360Z",
     "iopub.status.idle": "2025-07-08T15:30:59.666627Z",
     "shell.execute_reply": "2025-07-08T15:30:59.665948Z"
    },
    "papermill": {
     "duration": 0.011409,
     "end_time": "2025-07-08T15:30:59.667752",
     "exception": false,
     "start_time": "2025-07-08T15:30:59.656343",
     "status": "completed"
    },
    "tags": []
   },
   "outputs": [],
   "source": [
    "# Drop Unnamed : 69 column\n",
    "df= df.drop('Unnamed: 69', axis=1)"
   ]
  },
  {
   "cell_type": "code",
   "execution_count": 5,
   "id": "0ad55cca",
   "metadata": {
    "execution": {
     "iopub.execute_input": "2025-07-08T15:30:59.673691Z",
     "iopub.status.busy": "2025-07-08T15:30:59.673480Z",
     "iopub.status.idle": "2025-07-08T15:30:59.678074Z",
     "shell.execute_reply": "2025-07-08T15:30:59.677403Z"
    },
    "papermill": {
     "duration": 0.008765,
     "end_time": "2025-07-08T15:30:59.679069",
     "exception": false,
     "start_time": "2025-07-08T15:30:59.670304",
     "status": "completed"
    },
    "tags": []
   },
   "outputs": [],
   "source": [
    "# Basic cleaning\n",
    "df = df.drop(['Country Code', 'Indicator Name', 'Indicator Code'], axis=1, errors='ignore')\n",
    "df = df.rename(columns={'Country Name': 'Country'})"
   ]
  },
  {
   "cell_type": "code",
   "execution_count": 6,
   "id": "150fa0e8",
   "metadata": {
    "execution": {
     "iopub.execute_input": "2025-07-08T15:30:59.685007Z",
     "iopub.status.busy": "2025-07-08T15:30:59.684502Z",
     "iopub.status.idle": "2025-07-08T15:30:59.688204Z",
     "shell.execute_reply": "2025-07-08T15:30:59.687718Z"
    },
    "papermill": {
     "duration": 0.007695,
     "end_time": "2025-07-08T15:30:59.689239",
     "exception": false,
     "start_time": "2025-07-08T15:30:59.681544",
     "status": "completed"
    },
    "tags": []
   },
   "outputs": [],
   "source": [
    "target_country = \"Argentina\" \n",
    "df_target_country = df[df['Country'] == target_country].copy()"
   ]
  },
  {
   "cell_type": "code",
   "execution_count": 7,
   "id": "3c152bc5",
   "metadata": {
    "execution": {
     "iopub.execute_input": "2025-07-08T15:30:59.695147Z",
     "iopub.status.busy": "2025-07-08T15:30:59.694719Z",
     "iopub.status.idle": "2025-07-08T15:30:59.703888Z",
     "shell.execute_reply": "2025-07-08T15:30:59.703179Z"
    },
    "papermill": {
     "duration": 0.013192,
     "end_time": "2025-07-08T15:30:59.704972",
     "exception": false,
     "start_time": "2025-07-08T15:30:59.691780",
     "status": "completed"
    },
    "tags": []
   },
   "outputs": [
    {
     "name": "stdout",
     "output_type": "stream",
     "text": [
      "     Country        1960        1961        1962        1963        1964  \\\n",
      "9  Argentina  20386045.0  20726276.0  21072538.0  21421705.0  21769453.0   \n",
      "\n",
      "         1965        1966        1967        1968  ...        2015  \\\n",
      "9  22112629.0  22453893.0  22799059.0  23150583.0  ...  43477012.0   \n",
      "\n",
      "         2016        2017        2018        2019        2020        2021  \\\n",
      "9  43900313.0  44288894.0  44654882.0  44973465.0  45191965.0  45312281.0   \n",
      "\n",
      "         2022        2023        2024  \n",
      "9  45407904.0  45538401.0  45696159.0  \n",
      "\n",
      "[1 rows x 66 columns]\n"
     ]
    }
   ],
   "source": [
    "print(df_target_country.head())"
   ]
  },
  {
   "cell_type": "code",
   "execution_count": 8,
   "id": "769ad4ce",
   "metadata": {
    "execution": {
     "iopub.execute_input": "2025-07-08T15:30:59.711089Z",
     "iopub.status.busy": "2025-07-08T15:30:59.710748Z",
     "iopub.status.idle": "2025-07-08T15:30:59.724196Z",
     "shell.execute_reply": "2025-07-08T15:30:59.723734Z"
    },
    "papermill": {
     "duration": 0.017555,
     "end_time": "2025-07-08T15:30:59.725202",
     "exception": false,
     "start_time": "2025-07-08T15:30:59.707647",
     "status": "completed"
    },
    "tags": []
   },
   "outputs": [],
   "source": [
    "df_target_country = df_target_country.melt(\n",
    "    id_vars=['Country'],\n",
    "    var_name='Year',\n",
    "    value_name='Population'\n",
    ")\n",
    "# Convert year to number and remove NaN values\n",
    "df_target_country['Year'] = df_target_country['Year'].astype(int)\n",
    "df_target_country = df_target_country.dropna()"
   ]
  },
  {
   "cell_type": "code",
   "execution_count": 9,
   "id": "c25fd204",
   "metadata": {
    "execution": {
     "iopub.execute_input": "2025-07-08T15:30:59.731042Z",
     "iopub.status.busy": "2025-07-08T15:30:59.730846Z",
     "iopub.status.idle": "2025-07-08T15:31:00.061920Z",
     "shell.execute_reply": "2025-07-08T15:31:00.061193Z"
    },
    "papermill": {
     "duration": 0.335285,
     "end_time": "2025-07-08T15:31:00.063085",
     "exception": false,
     "start_time": "2025-07-08T15:30:59.727800",
     "status": "completed"
    },
    "tags": []
   },
   "outputs": [
    {
     "data": {
      "image/png": "[encoded data removed]",
      "text/plain": [
       "<Figure size 1200x600 with 1 Axes>"
      ]
     },
     "metadata": {},
     "output_type": "display_data"
    }
   ],
   "source": [
    "import matplotlib.pyplot as plt\n",
    "\n",
    "plt.figure(figsize=(12, 6))\n",
    "plt.plot(df_target_country['Year'], df_target_country['Population'] / 1e6, 'b-') # Division by 1 million for readability\n",
    "plt.title(f\"Population evolution in {target_country}\")\n",
    "plt.xlabel(\"Year\")\n",
    "plt.ylabel(\"Population (millions)\")\n",
    "plt.grid(True)\n",
    "plt.show()"
   ]
  },
  {
   "cell_type": "code",
   "execution_count": 10,
   "id": "82d4a187",
   "metadata": {
    "execution": {
     "iopub.execute_input": "2025-07-08T15:31:00.070375Z",
     "iopub.status.busy": "2025-07-08T15:31:00.070163Z",
     "iopub.status.idle": "2025-07-08T15:31:00.290497Z",
     "shell.execute_reply": "2025-07-08T15:31:00.289808Z"
    },
    "papermill": {
     "duration": 0.225245,
     "end_time": "2025-07-08T15:31:00.291647",
     "exception": false,
     "start_time": "2025-07-08T15:31:00.066402",
     "status": "completed"
    },
    "tags": []
   },
   "outputs": [
    {
     "data": {
      "image/png": "[encoded data removed]",
      "text/plain": [
       "<Figure size 1200x600 with 1 Axes>"
      ]
     },
     "metadata": {},
     "output_type": "display_data"
    }
   ],
   "source": [
    "# Annual change\n",
    "df_target_country['Growth'] = df_target_country['Population'].pct_change() * 100\n",
    "\n",
    "plt.figure(figsize=(12, 6))\n",
    "plt.bar(df_target_country['Year'], df_target_country['Growth'], color='orange')\n",
    "plt.title(f\"Annual growth rate in {target_country}\")\n",
    "plt.xlabel(\"Year\")\n",
    "plt.ylabel(\"Growth (%)\")\n",
    "plt.show()"
   ]
  },
  {
   "cell_type": "code",
   "execution_count": 11,
   "id": "8c8aa598",
   "metadata": {
    "execution": {
     "iopub.execute_input": "2025-07-08T15:31:00.299376Z",
     "iopub.status.busy": "2025-07-08T15:31:00.299177Z",
     "iopub.status.idle": "2025-07-08T15:31:00.303579Z",
     "shell.execute_reply": "2025-07-08T15:31:00.302933Z"
    },
    "papermill": {
     "duration": 0.009417,
     "end_time": "2025-07-08T15:31:00.304651",
     "exception": false,
     "start_time": "2025-07-08T15:31:00.295234",
     "status": "completed"
    },
    "tags": []
   },
   "outputs": [],
   "source": [
    "# Focus on a specific period\n",
    "# Filter for years 2000-2020\n",
    "df_recent = df_target_country[(df_target_country['Year'] >= 2000) & (df_target_country['Year'] <= 2020)]"
   ]
  },
  {
   "cell_type": "code",
   "execution_count": 12,
   "id": "bb5775c5",
   "metadata": {
    "execution": {
     "iopub.execute_input": "2025-07-08T15:31:00.312951Z",
     "iopub.status.busy": "2025-07-08T15:31:00.312742Z",
     "iopub.status.idle": "2025-07-08T15:31:00.486691Z",
     "shell.execute_reply": "2025-07-08T15:31:00.486083Z"
    },
    "papermill": {
     "duration": 0.179736,
     "end_time": "2025-07-08T15:31:00.487774",
     "exception": false,
     "start_time": "2025-07-08T15:31:00.308038",
     "status": "completed"
    },
    "tags": []
   },
   "outputs": [
    {
     "name": "stderr",
     "output_type": "stream",
     "text": [
      "/tmp/ipykernel_20/4275941408.py:1: SettingWithCopyWarning: \n",
      "A value is trying to be set on a copy of a slice from a DataFrame.\n",
      "Try using .loc[row_indexer,col_indexer] = value instead\n",
      "\n",
      "See the caveats in the documentation: https://pandas.pydata.org/pandas-docs/stable/user_guide/indexing.html#returning-a-view-versus-a-copy\n",
      "  df_recent['Growth'] = df_recent['Population'].pct_change() * 100\n"
     ]
    },
    {
     "data": {
      "image/png": "[encoded data removed]",
      "text/plain": [
       "<Figure size 1200x600 with 1 Axes>"
      ]
     },
     "metadata": {},
     "output_type": "display_data"
    }
   ],
   "source": [
    "df_recent['Growth'] = df_recent['Population'].pct_change() * 100\n",
    "plt.figure(figsize=(12, 6))\n",
    "plt.bar(df_recent['Year'], df_recent['Growth'], color='orange')\n",
    "plt.title(f\"Taux de croissance annuel en {target_country}\")\n",
    "plt.xlabel(\"Year\")\n",
    "plt.ylabel(\"Growth (%)\")\n",
    "plt.show()"
   ]
  },
  {
   "cell_type": "code",
   "execution_count": null,
   "id": "535bb6ed",
   "metadata": {
    "papermill": {
     "duration": 0.003761,
     "end_time": "2025-07-08T15:31:00.495657",
     "exception": false,
     "start_time": "2025-07-08T15:31:00.491896",
     "status": "completed"
    },
    "tags": []
   },
   "outputs": [],
   "source": []
  }
 ],
 "metadata": {
  "kaggle": {
   "accelerator": "nvidiaTeslaT4",
   "dataSources": [
    {
     "datasetId": 7827230,
     "sourceId": 12411071,
     "sourceType": "datasetVersion"
    }
   ],
   "dockerImageVersionId": 31090,
   "isGpuEnabled": true,
   "isInternetEnabled": true,
   "language": "python",
   "sourceType": "notebook"
  },
  "kernelspec": {
   "display_name": "Python 3",
   "language": "python",
   "name": "python3"
  },
  "language_info": {
   "codemirror_mode": {
    "name": "ipython",
    "version": 3
   },
   "file_extension": ".py",
   "mimetype": "text/x-python",
   "name": "python",
   "nbconvert_exporter": "python",
   "pygments_lexer": "ipython3",
   "version": "3.11.13"
  },
  "papermill": {
   "default_parameters": {},
   "duration": 7.261001,
   "end_time": "2025-07-08T15:31:00.815900",
   "environment_variables": {},
   "exception": null,
   "input_path": "__notebook__.ipynb",
   "output_path": "__notebook__.ipynb",
   "parameters": {},
   "start_time": "2025-07-08T15:30:53.554899",
   "version": "2.6.0"
  }
 },
 "nbformat": 4,
 "nbformat_minor": 5
}
